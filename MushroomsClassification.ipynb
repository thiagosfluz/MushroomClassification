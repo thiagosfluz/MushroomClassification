{
  "nbformat": 4,
  "nbformat_minor": 0,
  "metadata": {
    "colab": {
      "private_outputs": true,
      "provenance": [],
      "mount_file_id": "1dT8lvzrFLFmQderp1V3H32KZiUZSrVwX",
      "authorship_tag": "ABX9TyPdcd0Oi5lkAO/Ty1AvlDR1",
      "include_colab_link": true
    },
    "kernelspec": {
      "name": "python3",
      "display_name": "Python 3"
    },
    "language_info": {
      "name": "python"
    }
  },
  "cells": [
    {
      "cell_type": "markdown",
      "metadata": {
        "id": "view-in-github",
        "colab_type": "text"
      },
      "source": [
        "<a href=\"https://colab.research.google.com/github/thiagosfluz/MushroomClassification/blob/main/MushroomsClassification.ipynb\" target=\"_parent\"><img src=\"https://colab.research.google.com/assets/colab-badge.svg\" alt=\"Open In Colab\"/></a>"
      ]
    },
    {
      "cell_type": "markdown",
      "source": [
        "**Importing the libraries**"
      ],
      "metadata": {
        "id": "HjujFCGN3aZk"
      }
    },
    {
      "cell_type": "code",
      "source": [
        "import numpy as np\n",
        "import pandas as pd\n",
        "from sklearn.preprocessing import LabelEncoder\n",
        "from sklearn.preprocessing import StandardScaler\n",
        "from sklearn.linear_model import LogisticRegression\n",
        "from sklearn.svm import SVC\n",
        "from sklearn.model_selection import train_test_split"
      ],
      "metadata": {
        "id": "WbJwRsmn3eP3"
      },
      "execution_count": null,
      "outputs": []
    },
    {
      "cell_type": "code",
      "execution_count": null,
      "metadata": {
        "id": "cvkBj35rU-A9"
      },
      "outputs": [],
      "source": [
        "mushrooms = pd.read_csv('/content/drive/MyDrive/Formação em dados/Projetos/mushrooms.csv')"
      ]
    },
    {
      "cell_type": "code",
      "source": [
        "mushrooms.head()"
      ],
      "metadata": {
        "id": "w5euDcPj4Rcb"
      },
      "execution_count": null,
      "outputs": []
    },
    {
      "cell_type": "code",
      "source": [
        "mushrooms.info()"
      ],
      "metadata": {
        "id": "hYWn6Zaj4kwV"
      },
      "execution_count": null,
      "outputs": []
    },
    {
      "cell_type": "code",
      "source": [
        "mushrooms.shape"
      ],
      "metadata": {
        "id": "7bZqe6wK4pqm"
      },
      "execution_count": null,
      "outputs": []
    },
    {
      "cell_type": "markdown",
      "source": [
        "**Data Preprocessing**"
      ],
      "metadata": {
        "id": "SM_Cpl6_4yzZ"
      }
    },
    {
      "cell_type": "code",
      "source": [
        "mapping = list()\n",
        "\n",
        "encoder=LabelEncoder()\n",
        "\n",
        "for column in range(len(mushrooms.columns)):\n",
        "  mushrooms[mushrooms.columns[column]]=encoder.fit_transform(mushrooms[mushrooms.columns[column]])\n",
        "  mapping_dict={index:label for index,label in enumerate(encoder.classes_)}\n",
        "  mapping.append(mapping_dict)"
      ],
      "metadata": {
        "id": "zQSDKnav43Fi"
      },
      "execution_count": null,
      "outputs": []
    },
    {
      "cell_type": "code",
      "source": [
        "mapping"
      ],
      "metadata": {
        "id": "OexIpI8277Nk"
      },
      "execution_count": null,
      "outputs": []
    },
    {
      "cell_type": "code",
      "source": [
        "mushrooms.head()"
      ],
      "metadata": {
        "id": "n-lOTNuY_DZK"
      },
      "execution_count": null,
      "outputs": []
    },
    {
      "cell_type": "markdown",
      "source": [
        "**Splitting data into X and y**"
      ],
      "metadata": {
        "id": "C0y4BHDv-cdn"
      }
    },
    {
      "cell_type": "code",
      "source": [
        "X=mushrooms.drop('class', axis=1)\n",
        "y=mushrooms['class']\n"
      ],
      "metadata": {
        "id": "fLN0HQqB-gpf"
      },
      "execution_count": null,
      "outputs": []
    },
    {
      "cell_type": "code",
      "source": [
        "X"
      ],
      "metadata": {
        "id": "BbWHGdtV-yn_"
      },
      "execution_count": null,
      "outputs": []
    },
    {
      "cell_type": "code",
      "source": [
        "y"
      ],
      "metadata": {
        "id": "IAvAaj9V-0nw"
      },
      "execution_count": null,
      "outputs": []
    },
    {
      "cell_type": "code",
      "source": [
        "scaler=StandardScaler()"
      ],
      "metadata": {
        "id": "M5Af32gb-3bN"
      },
      "execution_count": null,
      "outputs": []
    },
    {
      "cell_type": "code",
      "source": [
        "X=pd.DataFrame(scaler.fit_transform(X), columns=X.columns)"
      ],
      "metadata": {
        "id": "32M4uM-x_Q4y"
      },
      "execution_count": null,
      "outputs": []
    },
    {
      "cell_type": "code",
      "source": [
        "X"
      ],
      "metadata": {
        "id": "PJX_FKBK_cfE"
      },
      "execution_count": null,
      "outputs": []
    },
    {
      "cell_type": "markdown",
      "source": [
        "**Splitting into training and testing data**"
      ],
      "metadata": {
        "id": "ggvzmXHX_nPx"
      }
    },
    {
      "cell_type": "code",
      "source": [
        "X_train, X_test, y_train, y_test = train_test_split(X, y, test_size=0.2, )"
      ],
      "metadata": {
        "id": "0eq-lXub_t33"
      },
      "execution_count": null,
      "outputs": []
    },
    {
      "cell_type": "code",
      "source": [
        "X_train"
      ],
      "metadata": {
        "id": "hkNI7QYUAiOl"
      },
      "execution_count": null,
      "outputs": []
    },
    {
      "cell_type": "code",
      "source": [
        "y_test"
      ],
      "metadata": {
        "id": "Opm70J-uA6mb"
      },
      "execution_count": null,
      "outputs": []
    },
    {
      "cell_type": "markdown",
      "source": [
        "**Model Selection and Score-Logistic Regression and SVM**"
      ],
      "metadata": {
        "id": "mDwA_QsaHzT0"
      }
    },
    {
      "cell_type": "code",
      "source": [
        "lrmodel = LogisticRegression()\n",
        "svmmodel = SVC(C=1.0, kernel = 'rbf')"
      ],
      "metadata": {
        "id": "yLnfUhv1H646"
      },
      "execution_count": null,
      "outputs": []
    },
    {
      "cell_type": "code",
      "source": [
        "lrmodel.fit(X_train, y_train)"
      ],
      "metadata": {
        "id": "8qkDSVfPIRh3"
      },
      "execution_count": null,
      "outputs": []
    },
    {
      "cell_type": "code",
      "source": [
        "svmmodel.fit(X_train, y_train)"
      ],
      "metadata": {
        "id": "rkO69j25Ifd6"
      },
      "execution_count": null,
      "outputs": []
    },
    {
      "cell_type": "code",
      "source": [
        "print(f\"Logistic Regression: {lrmodel.score(X_test, y_test)}\")"
      ],
      "metadata": {
        "id": "OIORpWtxI0YP"
      },
      "execution_count": null,
      "outputs": []
    },
    {
      "cell_type": "code",
      "source": [
        "print(f\"Support Vector Machine: {svmmodel.score(X_test, y_test)}\")"
      ],
      "metadata": {
        "id": "O27d9o8cJBfx"
      },
      "execution_count": null,
      "outputs": []
    }
  ]
}